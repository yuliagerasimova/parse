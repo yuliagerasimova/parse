{
 "cells": [
  {
   "cell_type": "code",
   "execution_count": null,
   "id": "9c9d622a-90f2-46f9-9689-1f8a52819458",
   "metadata": {},
   "outputs": [],
   "source": [
    "import pandas as pd\n",
    "import requests\n",
    "from time import sleep\n",
    "from bs4 import BeautifulSoup\n",
    "\n",
    "url='https://o-zavodah.ru/zavody-proizvoditeli-sidra/'\n",
    "\n",
    "session = requests.Session()\n",
    "session.headers.update({'User-Agent': 'MyApp/1.0'})\n",
    "lst=[]\n",
    "r = session.get(url)\n",
    "print(r.status_code)\n",
    "soup = BeautifulSoup(r.text, 'lxml')\n",
    "k_lst = soup.find_all('a',itemprop='name')\n",
    "for k in k_lst:\n",
    "    sleep(1)\n",
    "    r2 = session.get('https://o-zavodah.ru'+k.get('href'))\n",
    "    soup2 = BeautifulSoup(r2.text, 'lxml')\n",
    "    txt = soup2.find('title').get_text(strip=True)\n",
    "    lst.append([txt.split(', ИНН')[0],txt.split(', ИНН')[1],r2.url])\n",
    "#pd.DataFrame(lst).to_excel('temp.xlsx')\n",
    "print(pd.DataFrame(lst))"
   ]
  }
 ],
 "metadata": {
  "kernelspec": {
   "display_name": "Python 3 (ipykernel)",
   "language": "python",
   "name": "python3"
  },
  "language_info": {
   "codemirror_mode": {
    "name": "ipython",
    "version": 3
   },
   "file_extension": ".py",
   "mimetype": "text/x-python",
   "name": "python",
   "nbconvert_exporter": "python",
   "pygments_lexer": "ipython3",
   "version": "3.9.13"
  }
 },
 "nbformat": 4,
 "nbformat_minor": 5
}
